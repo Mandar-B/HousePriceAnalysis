{
 "cells": [
  {
   "cell_type": "markdown",
   "id": "95e2a106",
   "metadata": {},
   "source": [
    "# Homework 11: Predictive Modelling and Model Comparision"
   ]
  },
  {
   "cell_type": "markdown",
   "id": "826a6ab1",
   "metadata": {},
   "source": [
    "Name:\n",
    "\n",
    "Student ID:\n",
    "\n",
    "Collaborators:\n"
   ]
  },
  {
   "cell_type": "markdown",
   "id": "00d46b81",
   "metadata": {},
   "source": [
    "## Instructions\n",
    "\n",
    "This is the final homework/Project, which is about Understanding Data Profiling, Feature Engineering, Feature Selection, Model Comparision & Selection as a _final project_ for our 217a class.\n",
    "\n",
    "We will be using the techniques and approaches introduced throughout the course focusing mainly towards the second half of the semester:\n",
    "\n",
    "* [M0] Python for DS\n",
    "* [M1] The DS and ML Workflows\n",
    "* [M2] Exploratory Data Analsyis\n",
    "* **[M3] Linear Regression (if applicable - depends on problem/dataset)**\n",
    "* **[M4] Linear Classification (if applicable - depends on problem/dataset)**\n",
    "* [M5] Sentiment Analysis (if applicable - depends on problem/dataset)\n",
    "* [M6] Ethical Thinking for Data Science (if applicable - depends on problem/dataset)\n",
    "* **[M7] Performance Evaluation: Overfitting & Cross-Validation**\n",
    "* **[M8] Clustering K-Means (if applicable - depends on problem/dataset)** \n",
    "* **[M9] Similarity-based Learning K-NN (if applicable - depends on problem/dataset)**\n",
    "* **[M10] More Models (Decision Tree, Random Forest, Neural Network) for Feature Engineering & Model Comparision & Selection**\n",
    "* **[M11] DS Workflow in Python: Data Profiling and ML Pipelines**\n",
    "\n",
    "The main focus of this project is majorly on the last modules [M7]-[M11]. In particular, it will be helpful to review **Lab 3 & hw 3 onwards for more clarification**.\n",
    "Most of the things you will do in this final project are explained in `Lab10` and `Lab11`. Then, review the other labs and hws to recap the general workflow of our DS approaches to the various problems we have worked on so far. This will help you to be prepared for all the steps in this project, so that you do not miss anything. \n",
    "\n",
    "In gernal, you should feel free to import any package that we have previously used in class. Ensure that all plots have the necessary components that a plot should have (e.g. axes labels, a title, a legend).\n",
    "\n",
    "Additionally, note that this assignment is more like a project than a typical homework and it will have a slightly different structure than the hws in the past. One of the reasons why Jupyter Notebooks are so popular in the field is because you can really treat them like notebooks to explain your findings as you discover them. In this assignment, we provide some **Problem** stubs following the DS workflow and you will need to fill in the analysis and structure as you go.\n",
    "\n",
    "Furthermore, in addition to recording your collaborators on this homework, please also remember to cite/indicate all external sources used when finishing this assignment. This includes peers, TAs, and links to online sources. \n",
    "\n",
    "Frequently **save** your notebook!"
   ]
  },
  {
   "cell_type": "markdown",
   "id": "d93db990",
   "metadata": {},
   "source": [
    "### Collaborators and Sources\n",
    "Furthermore, in addition to recording your **collaborators** on this homework, please also remember to **cite/indicate all external sources** used when finishing this assignment. \n",
    "> This includes peers, TAs, and links to online sources. \n",
    "\n",
    "Note that these citations will not free you from your obligation to submit your _own_ code and write-ups, however, they will be taken into account during the grading and regrading process."
   ]
  },
  {
   "cell_type": "code",
   "execution_count": 5,
   "id": "634f3014",
   "metadata": {},
   "outputs": [],
   "source": [
    "# collaborators and sources:\n",
    "# Albert Einstein and Marie Curie\n",
    "# https://developers.google.com/edu/python/strings\n",
    "\n",
    "# your code here\n",
    "answer = 'my answer'"
   ]
  },
  {
   "cell_type": "markdown",
   "id": "2c9fd7e5",
   "metadata": {},
   "source": [
    "### Submission instructions\n",
    "* Submit this Python notebook, including your answers in the code cells as homework submission.\n",
    "* **Feel free to add as many cells as you need to** — just make sure you don't change what we gave you. \n",
    "* **Does it spark joy?** Note that you will be partially graded on the presentation (_cleanliness, clarity, comments_) of your notebook so make sure you [Marie Kondo](https://lifehacker.com/marie-kondo-is-not-a-verb-1833373654) your notebook before submitting it."
   ]
  },
  {
   "cell_type": "markdown",
   "id": "2b5fb903",
   "metadata": {},
   "source": [
    "## 1. Introduction\n",
    "\n",
    "For our final project this semester, we'll take a look at data for Melbourne Housing Price Prediction\n",
    "https://www.kaggle.com/datasets/dansbecker/melbourne-housing-snapshot.\n",
    "\n",
    "\n",
    "As you have seen throughout the semseter we have learned various techniques to solve a problem task (Classification, Regression, Clustering etc.) starting from problem formulation to EDA to model building to model evaluation and performing feaure engineering and selection in order to improve the model's performance.\n",
    "You will be combining all the knowledge learned so far in this final project. You will be making assuptions and decisions on your own with appropriate justifications in writeups about how to improve the prediction model using all the tools and techniques learned so far and provide the best model at the end.\n",
    "\n",
    "\n",
    "The project aims at building a model of housing prices to predict median house values in Melbourne using the provided dataset. This model should learn from the data and be able to predict the median housing price in any district, given all the other metrics.\n",
    "\n",
    "Our goal will be to use this dataset to gain some insight about characteristics of different features.\n",
    "We will be using data profiling from pandas and create models (hopefully more than 3) and compare them to find out which model performed the best and probably explain why it is the best model among all in this data.\n"
   ]
  },
  {
   "cell_type": "markdown",
   "id": "e916b125",
   "metadata": {},
   "source": [
    "### Problem 1.1\n",
    "\n",
    "Download the data and load it in this notebook for further processing and analysis."
   ]
  },
  {
   "cell_type": "code",
   "execution_count": 6,
   "id": "c2e6b847",
   "metadata": {},
   "outputs": [],
   "source": [
    "# BEGIN SOLUTION\n",
    "\n",
    "\n",
    "\n",
    "# END SOLUTION"
   ]
  },
  {
   "cell_type": "markdown",
   "id": "ecca0ba0",
   "metadata": {},
   "source": [
    "**Write-up!** Describe the data, answering questions including, but not limited to, these: Where does the data come from? How was it obtained? How many examples and features does the dataset have? What kinds of features are in the dataset? What values can these features take? What kind of data science problem is this? What application area does the dataset fall into? What kind of prediction (regression, classification or clustering) we are doing with this dataset and why?\n",
    "> **Hint**: Recall, our goal is to build a model of housing prices to predict median house values."
   ]
  },
  {
   "cell_type": "markdown",
   "id": "17838b85",
   "metadata": {},
   "source": [
    "**Your Answer Here:**"
   ]
  },
  {
   "cell_type": "markdown",
   "id": "d045649a",
   "metadata": {},
   "source": [
    "### Problem 1.2: Getting Familiar with the Data\n",
    "\n",
    "Generate the data report using __ProfileReport__ as we did in lab 11."
   ]
  },
  {
   "cell_type": "code",
   "execution_count": 7,
   "id": "2d959100",
   "metadata": {},
   "outputs": [],
   "source": [
    "# BEGIN SOLUTION\n",
    "\n",
    "\n",
    "\n",
    "# END SOLUTION"
   ]
  },
  {
   "cell_type": "markdown",
   "id": "5a081468",
   "metadata": {},
   "source": [
    "### Problem 1.3: Data Description\n",
    "\n",
    "**Write-up!** What are the major highlights and interesting aspects in the report generated in the previous cell (or in your own EDA process). \n",
    "Describe your insights using the data/features/visualizations/statistics. Be sure to consider the relationship among features such as correlation and interaction, as well as distributions, missing data, outliers. Include additional visualizations as necessary."
   ]
  },
  {
   "cell_type": "code",
   "execution_count": 8,
   "id": "92f1e346",
   "metadata": {},
   "outputs": [],
   "source": [
    "# BEGIN SOLUTION\n",
    "\n",
    "\n",
    "\n",
    "# END SOLUTION"
   ]
  },
  {
   "cell_type": "markdown",
   "id": "99edff99",
   "metadata": {},
   "source": [
    "**Answer here:** (feel free to make multiple cells!)"
   ]
  },
  {
   "cell_type": "markdown",
   "id": "8d2efe9c",
   "metadata": {},
   "source": [
    "### Problem 1.4: Split the Data\n",
    "\n",
    "Extract input (X) and output (y) data from the dataset. \n",
    "\n",
    "Use the train and test split from the scikit learn library to split the data into 80% training and 20% testing.\n",
    "\n",
    "Then, initalize the Kfolds. Be sure to use these folds when executing cross validation below so that the results are comparable."
   ]
  },
  {
   "cell_type": "code",
   "execution_count": 9,
   "id": "e4731018",
   "metadata": {},
   "outputs": [],
   "source": [
    "# BEGIN SOLUTION\n",
    "\n",
    "\n",
    "\n",
    "# END SOLUTION"
   ]
  },
  {
   "cell_type": "markdown",
   "id": "513f7ae7",
   "metadata": {},
   "source": [
    "**Write-up!** Why 80% train and 20% test split is considered a good practice? How would you pick the train-test split size if the dataset is relatively small or large? What is the purpose of using cross validation technique and how does it ensure model robustness? What is Data snooping and how do you avaoid it?"
   ]
  },
  {
   "cell_type": "markdown",
   "id": "10d07c62",
   "metadata": {},
   "source": [
    "**Answer here:** (feel free to make multiple cells!)"
   ]
  },
  {
   "cell_type": "markdown",
   "id": "729e52ea",
   "metadata": {},
   "source": [
    "## Problem 2: Preprocessing and Baseline Models\n",
    "\n",
    "### Problem 2.1: Preprocessing for the Baseline Models\n",
    "\n",
    "Let's start by preprocessing the data so that we can train some baseline models. Note that categorical variables will need to be encoded and missing values should be appropriately delt with using imputation. Also, some models may require scaling. Imputation and scaling should be done in a manner that aovids data snooping.\n",
    "> Hint: The use of Scikit-Learn's Pipelines are highly encouraged!"
   ]
  },
  {
   "cell_type": "code",
   "execution_count": null,
   "metadata": {},
   "outputs": [],
   "source": [
    "# BEGIN SOLUTION\n",
    "\n",
    "\n",
    "\n",
    "# END SOLUTION"
   ]
  },
  {
   "cell_type": "markdown",
   "id": "173e76aa",
   "metadata": {},
   "source": [
    "### Problem 2.2: Perform Linear Regression\n",
    "\n",
    "Perform Linear Regression on training data. Predict the output for the test dataset using the fitted model. Print the root mean squared error (RMSE) and R^2 value from Linear Regression for test data set.\n"
   ]
  },
  {
   "cell_type": "code",
   "execution_count": 10,
   "id": "edca1517",
   "metadata": {},
   "outputs": [],
   "source": [
    "# BEGIN SOLUTION\n",
    "\n",
    "\n",
    "\n",
    "# END SOLUTION"
   ]
  },
  {
   "cell_type": "markdown",
   "id": "c06cbc05",
   "metadata": {},
   "source": [
    "**Write-up!** What does R^2 tell us about the model's performance? What does RMSE tell us about the model's performance?"
   ]
  },
  {
   "cell_type": "markdown",
   "id": "59572c31",
   "metadata": {},
   "source": [
    "**Answer here:** (feel free to make multiple cells!)"
   ]
  },
  {
   "cell_type": "markdown",
   "id": "5ecc5b28",
   "metadata": {},
   "source": [
    "### Problem 2.3 : Perform K-Nearest Neighbors Regression\n",
    "\n",
    "Perform K-Nearest Neighbors Algorithm for Regression using cross validation to tune any hyperparameters, such as `n_neighbors`.\n",
    "\n",
    "Then, using the optimal hyperparameters, train a K-Nearest Neighbors Regressor on the entirety of the training data and predict output for the test dataset using the fitted model.\n",
    "\n",
    "Print root mean squared error (RMSE) and R^2 from K-Nearest Neighbors Regression on the test datset."
   ]
  },
  {
   "cell_type": "code",
   "execution_count": 11,
   "id": "bc755c93",
   "metadata": {},
   "outputs": [],
   "source": [
    "# BEGIN SOLUTION\n",
    "\n",
    "\n",
    "\n",
    "# END SOLUTION"
   ]
  },
  {
   "cell_type": "markdown",
   "id": "c1407790",
   "metadata": {},
   "source": [
    "**Write-up!** How K-NN is different than Linear regression model and what additional steps you have to take for KNN Regression?"
   ]
  },
  {
   "cell_type": "markdown",
   "id": "f529c2c5",
   "metadata": {},
   "source": [
    "**Answer here:** (feel free to make multiple cells!)"
   ]
  },
  {
   "cell_type": "markdown",
   "id": "115d6b23",
   "metadata": {},
   "source": [
    "### Problem 2.4 : Perform Decision Tree Regression \n",
    "\n",
    "Perform Decision Tree Regression using cross validation to tune any hyperparameters, such as `max_depth`.\n",
    "\n",
    "Then, using the optimal hyperparameters, train a Decision Tree Regressor on the entirety of the training data and predict output for the test dataset using the fitted model.\n",
    "\n",
    "Print root mean squared error (RMSE) and R^2 from Decision Tree Regression on the test dataset."
   ]
  },
  {
   "cell_type": "code",
   "execution_count": 12,
   "id": "e8142250",
   "metadata": {},
   "outputs": [],
   "source": [
    "# BEGIN SOLUTION\n",
    "\n",
    "\n",
    "\n",
    "# END SOLUTION"
   ]
  },
  {
   "cell_type": "markdown",
   "id": "74505223",
   "metadata": {},
   "source": [
    "**Write-up!** What are the advantages or disadvantages of using Decision Tree over Linear Regression and KNN?"
   ]
  },
  {
   "cell_type": "markdown",
   "id": "d63a29a5",
   "metadata": {},
   "source": [
    "**Answer here:** (feel free to make multiple cells!)"
   ]
  },
  {
   "cell_type": "markdown",
   "id": "9ab0fe8d",
   "metadata": {},
   "source": [
    "### Problem 2.5 : Perform Random Forest Regression\n",
    "\n",
    "Perform Random Forest Regression using cross validation to tune any hyperparameters, such as `n_estimators`.\n",
    "\n",
    "Then, using the optimal hyperparameters, train a Random Forest Regressor on the entirety of the training data and predict output for the test dataset using the fitted model.\n",
    "\n",
    "Print root mean squared error (RMSE) and R^2 from Random Forest Regression on the test dataset."
   ]
  },
  {
   "cell_type": "code",
   "execution_count": 13,
   "id": "0aac6ed0",
   "metadata": {},
   "outputs": [],
   "source": [
    "# BEGIN SOLUTION\n",
    "\n",
    "\n",
    "\n",
    "# END SOLUTION"
   ]
  },
  {
   "cell_type": "markdown",
   "id": "466727f4",
   "metadata": {},
   "source": [
    "**Write-up!** Why does a Random Forest ensure better results than a single Decision Tree? "
   ]
  },
  {
   "cell_type": "markdown",
   "id": "326670bb",
   "metadata": {},
   "source": [
    "**Answer here:** (feel free to make multiple cells!)"
   ]
  },
  {
   "cell_type": "markdown",
   "id": "c0b113ad",
   "metadata": {},
   "source": [
    "## 3. Feature Selection And Extraction"
   ]
  },
  {
   "cell_type": "markdown",
   "id": "91bb8659",
   "metadata": {},
   "source": [
    "### Problem 3.1: Feature Selection\n",
    "\n",
    "Perform Feature **selection** in this section (Statistical, Model-based, or Iterative Feature Selection). Be sure to apply the same Feature Selection to both the training and testing datasets.\n",
    "\n",
    "**Do this!** In the cells below, **explain** and perform the steps necessary for feature selection. Make sure that your implementations and write-ups are presented well and effectively describe your workflow. You may add comments or markdown cells for your documentation as you see fit!  \n",
    "\n",
    "*Grading Note: Your work will be graded for _readability_, _style_, and _cleanlines_. So, carefully document your code and use descriptive/intuitive variable names. For write-ups use consice and clear language like in a written project report.*\n",
    "\n",
    "> **Hint**: You can use our previous labs as examples of how you might do this. Remember, you may add as many cells (for code and text) as you need below. Here — we gave you one for free!"
   ]
  },
  {
   "cell_type": "code",
   "execution_count": 14,
   "id": "3b45a0b1",
   "metadata": {},
   "outputs": [],
   "source": [
    "# BEGIN SOLUTION\n",
    "\n",
    "\n",
    "\n",
    "# END SOLUTION"
   ]
  },
  {
   "cell_type": "markdown",
   "id": "5a8314b0",
   "metadata": {},
   "source": [
    "**Write up** Explain which feature selection method have you selected and why."
   ]
  },
  {
   "cell_type": "markdown",
   "id": "3472d724",
   "metadata": {},
   "source": [
    "**Your Answer Here:**"
   ]
  },
  {
   "cell_type": "markdown",
   "id": "fc13a37f",
   "metadata": {},
   "source": [
    "### Problem 3.2: Feature Extraction\n",
    "\n",
    "Apply Feature **Extraction** in this section in order to derive at least 2 new features. Be sure to apply the same feature extraction to both the training and testing datasets.\n",
    "\n",
    "**Do this!** In the cells below, **explain** and perform the steps for feature extraction. Make sure that your implementations and write-ups are presented well and effectively describe your workflow. You may add comments or markdown cells for your documentation as you see fit!  \n",
    "\n",
    "*Grading Note: Your work will be graded for _readability_, _style_, and _cleanlines_. So, carefully document your code and use descriptive/intuitive variable names. For write-ups use consice and clear language like in a written project report.*\n",
    "\n",
    "> **Hint**: You can use our previous labs as examples of how you might do this. Remember, you may add as many cells (for code and text) as you need below. Here — we gave you one for free!"
   ]
  },
  {
   "cell_type": "code",
   "execution_count": 15,
   "id": "d50fff99",
   "metadata": {},
   "outputs": [],
   "source": [
    "# BEGIN SOLUTION\n",
    "\n",
    "\n",
    "\n",
    "# END SOLUTION"
   ]
  },
  {
   "cell_type": "markdown",
   "id": "89ffa8db",
   "metadata": {},
   "source": [
    "**Write up** Explain the feature extraction/generation methods have you implemented and why."
   ]
  },
  {
   "cell_type": "markdown",
   "id": "b424f8b9",
   "metadata": {},
   "source": [
    "**Your Answer Here:**"
   ]
  },
  {
   "cell_type": "markdown",
   "id": "012bb6f1",
   "metadata": {},
   "source": [
    "## Problem 4: Preprocessing and Feature Engineered Models\n",
    "\n",
    "### Problem 4.1: Preprocessing for the Feature Engineered Models\n",
    "\n",
    "Now that we've removed/added features during feature engineering, we need to update the preprocessing from Problem 2.1. "
   ]
  },
  {
   "cell_type": "code",
   "execution_count": null,
   "metadata": {},
   "outputs": [],
   "source": [
    "# BEGIN SOLUTION\n",
    "\n",
    "\n",
    "\n",
    "# END SOLUTION"
   ]
  },
  {
   "cell_type": "markdown",
   "id": "413150f1",
   "metadata": {},
   "source": [
    "### Problem 4.2: Perform Linear Regression\n",
    "\n",
    "Perform Linear Regression on **engineered training data**. Predict the output for the test dataset using the fitted model. Print the root mean squared error (RMSE) and R^2 value from Linear Regression for test data set.\n"
   ]
  },
  {
   "cell_type": "code",
   "execution_count": 16,
   "id": "4ce10e4e",
   "metadata": {},
   "outputs": [],
   "source": [
    "# BEGIN SOLUTION\n",
    "\n",
    "\n",
    "\n",
    "# END SOLUTION"
   ]
  },
  {
   "cell_type": "markdown",
   "id": "97d03aa8",
   "metadata": {},
   "source": [
    "### Problem 4.3 : Perform K-Nearest Neighbors Regression\n",
    "\n",
    "Perform K-Nearest Neighbors Algorithm for Regression using cross validation to tune any hyperparameters, such as `n_neighbors`. Be sure to use the **data with feature engineering applied**.\n",
    "\n",
    "Then, using the optimal hyperparameters, train a K-Nearest Neighbors Regressor on the entirety of the training data and predict output for the test dataset using the fitted model.\n",
    "\n",
    "Print root mean squared error (RMSE) and R^2 from K-Nearest Neighbors Regression on the test datset."
   ]
  },
  {
   "cell_type": "code",
   "execution_count": 17,
   "id": "c9685624",
   "metadata": {},
   "outputs": [],
   "source": [
    "# BEGIN SOLUTION\n",
    "\n",
    "\n",
    "\n",
    "# END SOLUTION"
   ]
  },
  {
   "cell_type": "markdown",
   "id": "0f915044",
   "metadata": {},
   "source": [
    "### Problem 4.4 : Perform Decision Tree Regression \n",
    "\n",
    "Perform Decision Tree Regression using cross validation to tune any hyperparameters, such as `max_depth`. Be sure to use the **data with feature engineering applied.**\n",
    "\n",
    "Then, using the optimal hyperparameters, train a Decision Tree Regressor on the entirety of the training data and predict output for the test dataset using the fitted model.\n",
    "\n",
    "Print root mean squared error (RMSE) and R^2 from Decision Tree Regression on the test dataset."
   ]
  },
  {
   "cell_type": "code",
   "execution_count": 18,
   "id": "ad25316a",
   "metadata": {},
   "outputs": [],
   "source": [
    "# BEGIN SOLUTION\n",
    "\n",
    "\n",
    "\n",
    "# END SOLUTION"
   ]
  },
  {
   "cell_type": "markdown",
   "id": "77a226aa",
   "metadata": {},
   "source": [
    "### Problem 4.5 : Perform Random Forest Regression\n",
    "\n",
    "Perform Random Forest Regression using cross validation to tune any hyperparameters, such as `n_estimators`. Be sure to use the **data with feature engineering applied.**\n",
    "\n",
    "Then, using the optimal hyperparameters, train a Random Forest Regressor on the entirety of the training data and predict output for the test dataset using the fitted model.\n",
    "\n",
    "Print root mean squared error (RMSE) and R^2 from Random Forest Regression on the test dataset."
   ]
  },
  {
   "cell_type": "code",
   "execution_count": 19,
   "id": "b667f8c6",
   "metadata": {},
   "outputs": [],
   "source": [
    "# BEGIN SOLUTION\n",
    "\n",
    "\n",
    "\n",
    "# END SOLUTION"
   ]
  },
  {
   "cell_type": "markdown",
   "id": "7e7cf4d9",
   "metadata": {},
   "source": [
    "## 5. Model Comparision"
   ]
  },
  {
   "cell_type": "markdown",
   "id": "69212255",
   "metadata": {},
   "source": [
    "### Problem 5.1:\n",
    "\n",
    "Create some visualizations that compare all the models results using either $R^{2}$ or RMSE. Be sure to include the following visualizations:\n",
    "1. Performance comparison across the 4 baseline models from problem 2.\n",
    "2. Performance comparison across the 4 feature engineered models from problem 4.\n",
    "3. Performance comparison of the baseline models and the feature engineered models."
   ]
  },
  {
   "cell_type": "code",
   "execution_count": 20,
   "id": "a5f23575",
   "metadata": {},
   "outputs": [],
   "source": [
    "# BEGIN SOLUTION\n",
    "\n",
    "\n",
    "\n",
    "# END SOLUTION"
   ]
  },
  {
   "cell_type": "markdown",
   "id": "b32d6f95",
   "metadata": {},
   "source": [
    "### Problem 5.2:\n",
    "\n",
    "**Write up** Summarize your results and provide some crucial insights about the entire with and without feature engineering process such as which model performed the best and why, based on what metrics and indicators, etc. Which model benefited the most/the least from the feature engineering (if any)?"
   ]
  },
  {
   "cell_type": "markdown",
   "id": "292d9c09",
   "metadata": {},
   "source": [
    "**Answer here:** (feel free to make multiple cells!)"
   ]
  }
 ],
 "metadata": {
  "kernelspec": {
   "display_name": "Python 3 (ipykernel)",
   "language": "python",
   "name": "python3"
  },
  "language_info": {
   "codemirror_mode": {
    "name": "ipython",
    "version": 3
   },
   "file_extension": ".py",
   "mimetype": "text/x-python",
   "name": "python",
   "nbconvert_exporter": "python",
   "pygments_lexer": "ipython3",
   "version": "3.11.5"
  }
 },
 "nbformat": 4,
 "nbformat_minor": 5
}
